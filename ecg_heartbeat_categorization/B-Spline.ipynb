{
 "cells": [
  {
   "cell_type": "code",
   "execution_count": 27,
   "metadata": {},
   "outputs": [],
   "source": [
    "import pandas as pd\n",
    "import numpy as np\n",
    "from matplotlib import pyplot as plt\n",
    "import patsy\n",
    "from sklearn.utils import resample\n",
    "\n",
    "\n",
    "from sklearn.linear_model import LogisticRegression\n",
    "from sklearn.preprocessing import StandardScaler\n",
    "from sklearn.preprocessing import MinMaxScaler\n",
    "from sklearn.naive_bayes import MultinomialNB\n",
    "from sklearn.linear_model import LogisticRegression\n",
    "from sklearn.neighbors import KNeighborsClassifier\n",
    "from sklearn.metrics import classification_report\n",
    "from sklearn.metrics import ConfusionMatrixDisplay"
   ]
  },
  {
   "cell_type": "code",
   "execution_count": 28,
   "metadata": {},
   "outputs": [],
   "source": [
    "train = pd.read_csv(\"../data/arrhythmia/mitbih_train.csv\", header = None)\n",
    "test = pd.read_csv(\"../data/arrhythmia/mitbih_test.csv\", header = None)\n",
    "\n",
    "# Last column reserved for classes\n",
    "X_train = train.iloc[:, :-1].to_numpy()\n",
    "y_train = train.iloc[:, -1].to_numpy()\n",
    "\n",
    "X_test = test.iloc[:, :-1].to_numpy()\n",
    "y_test = test.iloc[:, -1].to_numpy().astype(int)"
   ]
  },
  {
   "cell_type": "code",
   "execution_count": 29,
   "metadata": {},
   "outputs": [],
   "source": [
    "df_1 = train[y_train == 1]\n",
    "df_2 = train[y_train == 2]\n",
    "df_3 = train[y_train == 3]\n",
    "df_4 = train[y_train == 4]\n",
    "df_0 = (train[y_train == 0]).sample(n = 15000, random_state = 42)\n",
    "\n",
    "df_1 = resample(df_1, replace = True, n_samples = 15000, random_state = 123)\n",
    "df_2 = resample(df_2, replace = True, n_samples = 15000, random_state = 124)\n",
    "df_3 = resample(df_3, replace = True, n_samples = 15000, random_state = 125)\n",
    "df_4 = resample(df_4, replace = True, n_samples = 15000, random_state = 126)\n",
    "\n",
    "train = pd.concat([df_0, df_1, df_2, df_3, df_4])\n",
    "\n",
    "X_train = train.iloc[:, :-1].to_numpy()\n",
    "y_train = train.iloc[:, -1].to_numpy()\n"
   ]
  },
  {
   "cell_type": "code",
   "execution_count": 41,
   "metadata": {},
   "outputs": [],
   "source": [
    "class_names = [\n",
    "    \"Normal Beat\",\n",
    "    \"Supraventricular Premature Beat\", \n",
    "    \"Premature Ventricular Contraction\",\n",
    "    \"Fusion of Ventricular and Normal Beat\",\n",
    "    \"Unclassifiable Beat\"\n",
    "    ]"
   ]
  },
  {
   "cell_type": "code",
   "execution_count": 42,
   "metadata": {},
   "outputs": [],
   "source": [
    "# MinMax Scale:\n",
    "X_train_minmax = MinMaxScaler().fit_transform(X_train)\n",
    "X_test_minmax = MinMaxScaler().fit_transform(X_test)\n",
    "\n",
    "# Standard Scale:\n",
    "X_train_sscale = StandardScaler().fit_transform(X_train)\n",
    "X_test_sscale = StandardScaler().fit_transform(X_test)"
   ]
  },
  {
   "cell_type": "code",
   "execution_count": 70,
   "metadata": {},
   "outputs": [],
   "source": [
    "x = np.linspace(0,1, X_train.shape[1])\n",
    "M = 4 # Order\n",
    "K = 11 # Knots\n",
    "spb = K + 2 # spline basis\n",
    "k = np.linspace(0, 1, spb) # knots\n",
    "k = k[1:(len(k) - 1)] # Excluding end points\n",
    "nbasis = K + M - 2 + 2 # Due to exclusion of end points, add + 2 to calculate nbasis\n",
    "\n",
    "B = patsy.bs(x,  knots = k, degree = M - 1, include_intercept = True)"
   ]
  },
  {
   "cell_type": "code",
   "execution_count": 71,
   "metadata": {},
   "outputs": [],
   "source": [
    "Bcoef_train = np.zeros((X_train.shape[0], nbasis))\n",
    "\n",
    "for i in range(X_train.shape[0]):\n",
    "    Bcoef_train[i, :] = np.linalg.inv(B.T@B) @ B.T @ X_train[i, :].T\n",
    "    \n",
    "Bcoef_test = np.zeros((X_test.shape[0], nbasis))\n",
    "\n",
    "for i in range(X_test.shape[0]):\n",
    "    Bcoef_test[i, :] = np.linalg.inv(B.T@B) @ B.T @ X_test[i, :].T"
   ]
  },
  {
   "cell_type": "code",
   "execution_count": 72,
   "metadata": {},
   "outputs": [],
   "source": [
    "# MinMax Scale:\n",
    "Bcoef_train_minmax = MinMaxScaler().fit_transform(Bcoef_train)\n",
    "Bcoef_test_minmax = MinMaxScaler().fit_transform(Bcoef_test)\n",
    "\n",
    "# Standard Scale:\n",
    "Bcoef_train_sscale = StandardScaler().fit_transform(Bcoef_train)\n",
    "Bcoef_test_sscale = StandardScaler().fit_transform(Bcoef_test)"
   ]
  },
  {
   "cell_type": "markdown",
   "metadata": {},
   "source": [
    "### k-Nearest Neighbors:"
   ]
  },
  {
   "cell_type": "code",
   "execution_count": 73,
   "metadata": {},
   "outputs": [
    {
     "name": "stdout",
     "output_type": "stream",
     "text": [
      "                                       precision    recall  f1-score   support\n",
      "\n",
      "                          Normal Beat       0.97      0.64      0.77     18118\n",
      "      Supraventricular Premature Beat       0.14      0.67      0.23       556\n",
      "    Premature Ventricular Contraction       0.29      0.73      0.42      1448\n",
      "Fusion of Ventricular and Normal Beat       0.08      0.87      0.15       162\n",
      "                  Unclassifiable Beat       0.75      0.91      0.82      1608\n",
      "\n",
      "                             accuracy                           0.67     21892\n",
      "                            macro avg       0.45      0.76      0.48     21892\n",
      "                         weighted avg       0.88      0.67      0.73     21892\n",
      "\n"
     ]
    }
   ],
   "source": [
    "lr = LogisticRegression(multi_class = \"multinomial\", max_iter = 1000)\n",
    "lr.fit(X_train_minmax, y_train)\n",
    "print(classification_report(y_test, lr.predict(X_test_minmax), target_names = class_names))"
   ]
  },
  {
   "cell_type": "code",
   "execution_count": 74,
   "metadata": {},
   "outputs": [
    {
     "name": "stdout",
     "output_type": "stream",
     "text": [
      "                                       precision    recall  f1-score   support\n",
      "\n",
      "                          Normal Beat       0.95      0.83      0.88     18118\n",
      "      Supraventricular Premature Beat       0.16      0.49      0.24       556\n",
      "    Premature Ventricular Contraction       0.36      0.48      0.41      1448\n",
      "Fusion of Ventricular and Normal Beat       0.14      0.64      0.23       162\n",
      "                  Unclassifiable Beat       0.81      0.81      0.81      1608\n",
      "\n",
      "                             accuracy                           0.80     21892\n",
      "                            macro avg       0.48      0.65      0.52     21892\n",
      "                         weighted avg       0.87      0.80      0.83     21892\n",
      "\n"
     ]
    }
   ],
   "source": [
    "lr = LogisticRegression(multi_class = \"multinomial\", max_iter = 1000)\n",
    "lr.fit(Bcoef_train_minmax, y_train)\n",
    "print(classification_report(y_test, lr.predict(Bcoef_test_minmax), target_names = class_names))"
   ]
  },
  {
   "cell_type": "code",
   "execution_count": 75,
   "metadata": {},
   "outputs": [
    {
     "name": "stdout",
     "output_type": "stream",
     "text": [
      "                                       precision    recall  f1-score   support\n",
      "\n",
      "                          Normal Beat       0.99      0.97      0.98     18118\n",
      "      Supraventricular Premature Beat       0.58      0.79      0.67       556\n",
      "    Premature Ventricular Contraction       0.87      0.94      0.90      1448\n",
      "Fusion of Ventricular and Normal Beat       0.64      0.80      0.71       162\n",
      "                  Unclassifiable Beat       0.97      0.97      0.97      1608\n",
      "\n",
      "                             accuracy                           0.96     21892\n",
      "                            macro avg       0.81      0.89      0.85     21892\n",
      "                         weighted avg       0.97      0.96      0.96     21892\n",
      "\n"
     ]
    }
   ],
   "source": [
    "knn = KNeighborsClassifier(n_neighbors = 2)\n",
    "knn.fit(X_train, y_train)\n",
    "print(classification_report(y_test, knn.predict(X_test), target_names = class_names))"
   ]
  },
  {
   "cell_type": "code",
   "execution_count": 76,
   "metadata": {},
   "outputs": [
    {
     "name": "stdout",
     "output_type": "stream",
     "text": [
      "                                       precision    recall  f1-score   support\n",
      "\n",
      "                          Normal Beat       0.99      0.97      0.98     18118\n",
      "      Supraventricular Premature Beat       0.57      0.79      0.66       556\n",
      "    Premature Ventricular Contraction       0.87      0.93      0.90      1448\n",
      "Fusion of Ventricular and Normal Beat       0.52      0.75      0.61       162\n",
      "                  Unclassifiable Beat       0.95      0.97      0.96      1608\n",
      "\n",
      "                             accuracy                           0.96     21892\n",
      "                            macro avg       0.78      0.88      0.82     21892\n",
      "                         weighted avg       0.96      0.96      0.96     21892\n",
      "\n"
     ]
    }
   ],
   "source": [
    "knn = KNeighborsClassifier(n_neighbors = 2)\n",
    "knn.fit(Bcoef_train, y_train)\n",
    "print(classification_report(y_test, knn.predict(Bcoef_test), target_names = class_names))"
   ]
  },
  {
   "cell_type": "code",
   "execution_count": 78,
   "metadata": {},
   "outputs": [],
   "source": [
    "from sklearn import svm"
   ]
  },
  {
   "cell_type": "code",
   "execution_count": 79,
   "metadata": {},
   "outputs": [
    {
     "name": "stdout",
     "output_type": "stream",
     "text": [
      "                                       precision    recall  f1-score   support\n",
      "\n",
      "                          Normal Beat       0.97      0.74      0.84     18118\n",
      "      Supraventricular Premature Beat       0.28      0.65      0.39       556\n",
      "    Premature Ventricular Contraction       0.32      0.79      0.46      1448\n",
      "Fusion of Ventricular and Normal Beat       0.10      0.89      0.18       162\n",
      "                  Unclassifiable Beat       0.78      0.91      0.84      1608\n",
      "\n",
      "                             accuracy                           0.75     21892\n",
      "                            macro avg       0.49      0.80      0.54     21892\n",
      "                         weighted avg       0.89      0.75      0.80     21892\n",
      "\n"
     ]
    }
   ],
   "source": [
    "svm_linear = svm.SVC(kernel = \"linear\")\n",
    "svm_linear.fit(X_train, y_train)\n",
    "print(classification_report(y_test, svm_linear.predict(X_test), target_names = class_names))"
   ]
  }
 ],
 "metadata": {
  "interpreter": {
   "hash": "91ec43aa1f0db36d96140b828b08e86586f62f08ccada0f9bf3c6347196c39a6"
  },
  "kernelspec": {
   "display_name": "Python 3.8.8 64-bit ('base': conda)",
   "language": "python",
   "name": "python3"
  },
  "language_info": {
   "codemirror_mode": {
    "name": "ipython",
    "version": 3
   },
   "file_extension": ".py",
   "mimetype": "text/x-python",
   "name": "python",
   "nbconvert_exporter": "python",
   "pygments_lexer": "ipython3",
   "version": "3.8.8"
  },
  "orig_nbformat": 4
 },
 "nbformat": 4,
 "nbformat_minor": 2
}
